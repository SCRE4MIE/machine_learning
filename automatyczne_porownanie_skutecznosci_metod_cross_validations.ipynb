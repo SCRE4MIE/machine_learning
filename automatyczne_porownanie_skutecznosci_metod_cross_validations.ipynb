{
 "cells": [
  {
   "cell_type": "markdown",
   "source": [
    "# Automatyczne porównanie skuteczności metod cross validations\n",
    "## Mateusz Baran\n",
    "### 155620"
   ],
   "metadata": {
    "collapsed": false
   },
   "id": "52cba9e03ed07c60"
  },
  {
   "cell_type": "code",
   "execution_count": 109,
   "outputs": [],
   "source": [
    "import numpy as np\n",
    "import pandas as pd\n",
    "from sklearn.model_selection import train_test_split\n",
    "from sklearn import svm\n",
    "import warnings\n",
    "warnings.filterwarnings('ignore')"
   ],
   "metadata": {
    "collapsed": false,
    "ExecuteTime": {
     "end_time": "2024-03-21T17:51:50.579220Z",
     "start_time": "2024-03-21T17:51:50.459702Z"
    }
   },
   "id": "fbd51018494dbc4e"
  },
  {
   "cell_type": "code",
   "execution_count": 110,
   "outputs": [],
   "source": [
    "data = pd.read_csv('data/VLagun_Phys_Years3.csv')"
   ],
   "metadata": {
    "collapsed": false,
    "ExecuteTime": {
     "end_time": "2024-03-21T17:51:50.584928Z",
     "start_time": "2024-03-21T17:51:50.463361Z"
    }
   },
   "id": "b6b25b8060e4d8ec"
  },
  {
   "cell_type": "code",
   "execution_count": 111,
   "outputs": [
    {
     "data": {
      "text/plain": "        PSU     O2  temp.    SS    DOC    TPOC  Windspeedinsitu  Depth  Years\n0  3.757624   9.46   18.3  52.0  7.500  8.5650              3.5    3.3      0\n1  3.504707   9.89   19.1  50.0  7.860  8.5200              0.0    3.6      0\n2  3.757624   9.66   18.1  59.0  8.172  8.4915              1.0    3.4      0\n3  3.107266  10.36   19.5  46.0  7.848  8.8320              0.0    2.9      0\n4  2.619498  11.56   19.0  42.0  7.536  9.2400              0.0    3.0      0",
      "text/html": "<div>\n<style scoped>\n    .dataframe tbody tr th:only-of-type {\n        vertical-align: middle;\n    }\n\n    .dataframe tbody tr th {\n        vertical-align: top;\n    }\n\n    .dataframe thead th {\n        text-align: right;\n    }\n</style>\n<table border=\"1\" class=\"dataframe\">\n  <thead>\n    <tr style=\"text-align: right;\">\n      <th></th>\n      <th>PSU</th>\n      <th>O2</th>\n      <th>temp.</th>\n      <th>SS</th>\n      <th>DOC</th>\n      <th>TPOC</th>\n      <th>Windspeedinsitu</th>\n      <th>Depth</th>\n      <th>Years</th>\n    </tr>\n  </thead>\n  <tbody>\n    <tr>\n      <th>0</th>\n      <td>3.757624</td>\n      <td>9.46</td>\n      <td>18.3</td>\n      <td>52.0</td>\n      <td>7.500</td>\n      <td>8.5650</td>\n      <td>3.5</td>\n      <td>3.3</td>\n      <td>0</td>\n    </tr>\n    <tr>\n      <th>1</th>\n      <td>3.504707</td>\n      <td>9.89</td>\n      <td>19.1</td>\n      <td>50.0</td>\n      <td>7.860</td>\n      <td>8.5200</td>\n      <td>0.0</td>\n      <td>3.6</td>\n      <td>0</td>\n    </tr>\n    <tr>\n      <th>2</th>\n      <td>3.757624</td>\n      <td>9.66</td>\n      <td>18.1</td>\n      <td>59.0</td>\n      <td>8.172</td>\n      <td>8.4915</td>\n      <td>1.0</td>\n      <td>3.4</td>\n      <td>0</td>\n    </tr>\n    <tr>\n      <th>3</th>\n      <td>3.107266</td>\n      <td>10.36</td>\n      <td>19.5</td>\n      <td>46.0</td>\n      <td>7.848</td>\n      <td>8.8320</td>\n      <td>0.0</td>\n      <td>2.9</td>\n      <td>0</td>\n    </tr>\n    <tr>\n      <th>4</th>\n      <td>2.619498</td>\n      <td>11.56</td>\n      <td>19.0</td>\n      <td>42.0</td>\n      <td>7.536</td>\n      <td>9.2400</td>\n      <td>0.0</td>\n      <td>3.0</td>\n      <td>0</td>\n    </tr>\n  </tbody>\n</table>\n</div>"
     },
     "execution_count": 111,
     "metadata": {},
     "output_type": "execute_result"
    }
   ],
   "source": [
    "data.head()"
   ],
   "metadata": {
    "collapsed": false,
    "ExecuteTime": {
     "end_time": "2024-03-21T17:51:50.593336Z",
     "start_time": "2024-03-21T17:51:50.470685Z"
    }
   },
   "id": "7478d5297a014129"
  },
  {
   "cell_type": "code",
   "execution_count": 112,
   "outputs": [],
   "source": [
    "X = data.iloc[:,0:8]\n",
    "y = data.iloc[:, 8]"
   ],
   "metadata": {
    "collapsed": false,
    "ExecuteTime": {
     "end_time": "2024-03-21T17:51:50.625068Z",
     "start_time": "2024-03-21T17:51:50.475163Z"
    }
   },
   "id": "f9ff19c02b521820"
  },
  {
   "cell_type": "code",
   "execution_count": 113,
   "outputs": [
    {
     "data": {
      "text/plain": "((120, 8), (120,))"
     },
     "execution_count": 113,
     "metadata": {},
     "output_type": "execute_result"
    }
   ],
   "source": [
    "X.shape, y.shape"
   ],
   "metadata": {
    "collapsed": false,
    "ExecuteTime": {
     "end_time": "2024-03-21T17:51:50.625299Z",
     "start_time": "2024-03-21T17:51:50.478433Z"
    }
   },
   "id": "910eeb025c4d822f"
  },
  {
   "cell_type": "code",
   "execution_count": 114,
   "outputs": [],
   "source": [
    "X_train, X_test, y_train, y_test = train_test_split(X, y, test_size=0.3, random_state=0)"
   ],
   "metadata": {
    "collapsed": false,
    "ExecuteTime": {
     "end_time": "2024-03-21T17:51:50.640567Z",
     "start_time": "2024-03-21T17:51:50.482805Z"
    }
   },
   "id": "82d3d0f535918b5f"
  },
  {
   "cell_type": "code",
   "execution_count": 115,
   "outputs": [],
   "source": [
    "from sklearn.neighbors import KNeighborsClassifier"
   ],
   "metadata": {
    "collapsed": false,
    "ExecuteTime": {
     "end_time": "2024-03-21T17:51:50.650862Z",
     "start_time": "2024-03-21T17:51:50.484899Z"
    }
   },
   "id": "873f9b7ed4168ada"
  },
  {
   "cell_type": "code",
   "execution_count": 116,
   "outputs": [],
   "source": [
    "features, targets = X, y"
   ],
   "metadata": {
    "collapsed": false,
    "ExecuteTime": {
     "end_time": "2024-03-21T17:51:50.651006Z",
     "start_time": "2024-03-21T17:51:50.486885Z"
    }
   },
   "id": "5b6b05ab40406487"
  },
  {
   "cell_type": "code",
   "execution_count": 117,
   "outputs": [],
   "source": [
    "train_features, test_features, train_targets, test_targets = train_test_split(\n",
    "    features, \n",
    "    targets,\n",
    "    train_size=0.7,\n",
    "    test_size=0.3,\n",
    "    random_state=23,\n",
    "    stratify=targets,\n",
    ")"
   ],
   "metadata": {
    "collapsed": false,
    "ExecuteTime": {
     "end_time": "2024-03-21T17:51:50.652919Z",
     "start_time": "2024-03-21T17:51:50.489881Z"
    }
   },
   "id": "7df7a75c1ce756ad"
  },
  {
   "cell_type": "code",
   "execution_count": 118,
   "outputs": [
    {
     "name": "stdout",
     "output_type": "stream",
     "text": [
      "Accuracy: 0.8333333333333334\n"
     ]
    }
   ],
   "source": [
    "# use KNeighborsClassifier for classification\n",
    "classifier = KNeighborsClassifier()\n",
    "classifier.fit(train_features, train_targets)\n",
    "prediction_targets = classifier.predict(test_features)\n",
    "print('Accuracy:', end=' ')\n",
    "print(np.sum(prediction_targets == test_targets) / float(len(test_targets)))\n"
   ],
   "metadata": {
    "collapsed": false,
    "ExecuteTime": {
     "end_time": "2024-03-21T17:51:50.654837Z",
     "start_time": "2024-03-21T17:51:50.493760Z"
    }
   },
   "id": "ff83f688481e3351"
  },
  {
   "cell_type": "code",
   "execution_count": 119,
   "outputs": [],
   "source": [
    "# CROSS VALIDATION"
   ],
   "metadata": {
    "collapsed": false,
    "ExecuteTime": {
     "end_time": "2024-03-21T17:51:50.654875Z",
     "start_time": "2024-03-21T17:51:50.498725Z"
    }
   },
   "id": "958a84c701776428"
  },
  {
   "cell_type": "code",
   "execution_count": 120,
   "outputs": [],
   "source": [
    "from sklearn.model_selection import cross_val_score"
   ],
   "metadata": {
    "collapsed": false,
    "ExecuteTime": {
     "end_time": "2024-03-21T17:51:50.662501Z",
     "start_time": "2024-03-21T17:51:50.500622Z"
    }
   },
   "id": "3d9d6f8b30f7a97c"
  },
  {
   "cell_type": "code",
   "execution_count": 121,
   "outputs": [
    {
     "name": "stdout",
     "output_type": "stream",
     "text": [
      "Cross validation scores: [0.75  0.725 0.6  ]\n",
      "Mean score: 0.6916666666666668\n"
     ]
    }
   ],
   "source": [
    "classifier = KNeighborsClassifier()\n",
    "scores = cross_val_score(classifier, features, targets, cv=3)\n",
    "print('Cross validation scores:' ,scores)\n",
    "print('Mean score:', np.mean(scores))"
   ],
   "metadata": {
    "collapsed": false,
    "ExecuteTime": {
     "end_time": "2024-03-21T17:51:50.665438Z",
     "start_time": "2024-03-21T17:51:50.503760Z"
    }
   },
   "id": "693f0585393b757f"
  },
  {
   "cell_type": "code",
   "execution_count": 122,
   "outputs": [],
   "source": [
    "from sklearn.model_selection import KFold, StratifiedKFold, ShuffleSplit"
   ],
   "metadata": {
    "collapsed": false,
    "ExecuteTime": {
     "end_time": "2024-03-21T17:51:50.674276Z",
     "start_time": "2024-03-21T17:51:50.515283Z"
    }
   },
   "id": "88fc90cc340de3ea"
  },
  {
   "cell_type": "code",
   "execution_count": 123,
   "outputs": [],
   "source": [
    "# K Fold\n",
    "cv = KFold(n_splits=3, shuffle=True)"
   ],
   "metadata": {
    "collapsed": false,
    "ExecuteTime": {
     "end_time": "2024-03-21T17:51:50.674455Z",
     "start_time": "2024-03-21T17:51:50.516958Z"
    }
   },
   "id": "c21edea79a83a8de"
  },
  {
   "cell_type": "code",
   "execution_count": 124,
   "outputs": [
    {
     "name": "stdout",
     "output_type": "stream",
     "text": [
      "Cross validation scores: [0.825 0.9   0.775]\n",
      "Mean score: 0.8333333333333334\n"
     ]
    }
   ],
   "source": [
    "scores = cross_val_score(classifier, features, targets, cv=cv)\n",
    "print('Cross validation scores:' ,scores)\n",
    "print('Mean score:', np.mean(scores))"
   ],
   "metadata": {
    "collapsed": false,
    "ExecuteTime": {
     "end_time": "2024-03-21T17:51:50.675806Z",
     "start_time": "2024-03-21T17:51:50.519084Z"
    }
   },
   "id": "f049df2f7a3229a4"
  },
  {
   "cell_type": "code",
   "execution_count": 125,
   "outputs": [
    {
     "name": "stdout",
     "output_type": "stream",
     "text": [
      "Cross validation scores: [0.85  0.75  0.875]\n",
      "Mean score: 0.8250000000000001\n"
     ]
    }
   ],
   "source": [
    "# Stratified Fold\n",
    "cv = StratifiedKFold(n_splits=3, shuffle=True)\n",
    "scores = cross_val_score(classifier, features, targets, cv=cv)\n",
    "print('Cross validation scores:' ,scores)\n",
    "print('Mean score:', np.mean(scores))"
   ],
   "metadata": {
    "collapsed": false,
    "ExecuteTime": {
     "end_time": "2024-03-21T17:51:50.675881Z",
     "start_time": "2024-03-21T17:51:50.529395Z"
    }
   },
   "id": "429f8bdcd1183b5"
  },
  {
   "cell_type": "code",
   "execution_count": 126,
   "outputs": [
    {
     "name": "stdout",
     "output_type": "stream",
     "text": [
      "Cross validation scores: [0.88888889 0.86111111 0.86111111]\n",
      "Mean score: 0.8703703703703703\n"
     ]
    }
   ],
   "source": [
    "# Shuffle Split\n",
    "cv = ShuffleSplit(n_splits=3, test_size=0.3)\n",
    "scores = cross_val_score(classifier, features, targets, cv=cv)\n",
    "print('Cross validation scores:' ,scores)\n",
    "print('Mean score:', np.mean(scores))"
   ],
   "metadata": {
    "collapsed": false,
    "ExecuteTime": {
     "end_time": "2024-03-21T17:51:50.675943Z",
     "start_time": "2024-03-21T17:51:50.540631Z"
    }
   },
   "id": "faae8b52c6850417"
  },
  {
   "cell_type": "markdown",
   "source": [
    "### Najlepszy średni wynik Cross validation wyszedł dla Stratified Fold = 0.8250 "
   ],
   "metadata": {
    "collapsed": false
   },
   "id": "6f1fe582b6f241e4"
  },
  {
   "cell_type": "markdown",
   "source": [
    "## Automatic CV comparison of algorithms"
   ],
   "metadata": {
    "collapsed": false
   },
   "id": "6d24cd64a2ce5ab7"
  },
  {
   "cell_type": "code",
   "execution_count": 127,
   "outputs": [],
   "source": [
    "import numpy as np\n",
    "import matplotlib.pyplot as plt\n",
    "from sklearn.model_selection import cross_val_score\n",
    "from sklearn.model_selection import KFold\n",
    "from sklearn.linear_model import LogisticRegression\n",
    "from sklearn.neighbors import KNeighborsClassifier\n",
    "from sklearn.svm import SVC\n",
    "from sklearn.tree import DecisionTreeClassifier"
   ],
   "metadata": {
    "collapsed": false,
    "ExecuteTime": {
     "end_time": "2024-03-21T17:51:50.675977Z",
     "start_time": "2024-03-21T17:51:50.549418Z"
    }
   },
   "id": "8313d77072b7ad5c"
  },
  {
   "cell_type": "code",
   "execution_count": 128,
   "outputs": [],
   "source": [
    "models = []\n",
    "models.append(('LogisticRegression', LogisticRegression()))\n",
    "models.append(('KNeighborsClassifier', KNeighborsClassifier()))\n",
    "models.append(('SVC', SVC()))\n",
    "models.append(('DecisionTreeClassifier', DecisionTreeClassifier()))"
   ],
   "metadata": {
    "collapsed": false,
    "ExecuteTime": {
     "end_time": "2024-03-21T17:51:50.676013Z",
     "start_time": "2024-03-21T17:51:50.551398Z"
    }
   },
   "id": "9ac17a1e5fed9453"
  },
  {
   "cell_type": "code",
   "execution_count": 129,
   "outputs": [
    {
     "name": "stdout",
     "output_type": "stream",
     "text": [
      "Model: LogisticRegression, Score: mean=0.95833, var=0.00069\n",
      "Model: KNeighborsClassifier, Score: mean=0.85000, var=0.00250\n",
      "Model: SVC, Score: mean=0.75833, var=0.00375\n",
      "Model: DecisionTreeClassifier, Score: mean=0.85000, var=0.00250\n"
     ]
    }
   ],
   "source": [
    "cv = KFold(n_splits=5, shuffle=True, random_state=23)\n",
    "for name, model in models:\n",
    "    score = cross_val_score(model, features, targets, cv=cv)\n",
    "    print('Model: {0}, Score: mean={1:0.5f}, var={2:0.5f}'.format(name, score.mean(), score.var()))"
   ],
   "metadata": {
    "collapsed": false,
    "ExecuteTime": {
     "end_time": "2024-03-21T17:51:50.707660Z",
     "start_time": "2024-03-21T17:51:50.554492Z"
    }
   },
   "id": "e3441e1707d2df99"
  },
  {
   "cell_type": "markdown",
   "source": [
    "### Średni najlepszy wynik jest dla modelu: LogisticRegresion chociaż jest już bardzo blisko przetrenowaniu (100), dlatego weług mnie, najlepszy model to: DecisionTreeClassifier oraz KNeighborsClassifier."
   ],
   "metadata": {
    "collapsed": false
   },
   "id": "cc061c64ae083a57"
  },
  {
   "cell_type": "code",
   "execution_count": 130,
   "outputs": [
    {
     "name": "stdout",
     "output_type": "stream",
     "text": [
      "Model: LogisticRegression, Score: mean=0.95000, var=0.00167\n",
      "Model: KNeighborsClassifier, Score: mean=0.81667, var=0.00111\n",
      "Model: SVC, Score: mean=0.76667, var=0.00458\n",
      "Model: DecisionTreeClassifier, Score: mean=0.85833, var=0.00111\n"
     ]
    }
   ],
   "source": [
    "cv = StratifiedKFold(n_splits=5, shuffle=True, random_state=23)\n",
    "for name, model in models:\n",
    "    score = cross_val_score(model, features, targets, cv=cv)\n",
    "    print('Model: {0}, Score: mean={1:0.5f}, var={2:0.5f}'.format(name, score.mean(), score.var()))"
   ],
   "metadata": {
    "collapsed": false,
    "ExecuteTime": {
     "end_time": "2024-03-21T17:51:50.710264Z",
     "start_time": "2024-03-21T17:51:50.601680Z"
    }
   },
   "id": "789a886ef29535d4"
  },
  {
   "cell_type": "markdown",
   "source": [
    "### Średni najlepszy wynik jest dla modelu: LogisticRegresion chociaż jest już bardzo blisko przetrenowaniu (100), dlatego według mnie najlepszy wynik uzyskał model: DecisionTreeClassifier "
   ],
   "metadata": {
    "collapsed": false
   },
   "id": "9c19463b5606bdbb"
  },
  {
   "cell_type": "code",
   "execution_count": 131,
   "outputs": [
    {
     "name": "stdout",
     "output_type": "stream",
     "text": [
      "Model: LogisticRegression, Score: mean=0.95000, var=0.00444\n",
      "Model: KNeighborsClassifier, Score: mean=0.86667, var=0.00444\n",
      "Model: SVC, Score: mean=0.75000, var=0.00833\n",
      "Model: DecisionTreeClassifier, Score: mean=0.90000, var=0.00389\n"
     ]
    }
   ],
   "source": [
    "cv = ShuffleSplit(n_splits=5, random_state=23)\n",
    "for name, model in models:\n",
    "    score = cross_val_score(model, features, targets, cv=cv)\n",
    "    print('Model: {0}, Score: mean={1:0.5f}, var={2:0.5f}'.format(name, score.mean(), score.var()))"
   ],
   "metadata": {
    "collapsed": false,
    "ExecuteTime": {
     "end_time": "2024-03-21T17:51:50.805587Z",
     "start_time": "2024-03-21T17:51:50.647338Z"
    }
   },
   "id": "8e5f11ef5931aebe"
  },
  {
   "cell_type": "markdown",
   "source": [
    "### Średni najlepszy wynik jest dla modelu: LogisticRegresion oraz DecisionTreeClassifier chociaż jest już bardzo blisko przetrenowaniu (100), dlatego według mnie najlepszy wynik uzyskał model: KNeighborsClassifier "
   ],
   "metadata": {
    "collapsed": false
   },
   "id": "624bb1c97e9725bf"
  },
  {
   "cell_type": "markdown",
   "source": [
    "# Cross validation of SVM kernels porównanie"
   ],
   "metadata": {
    "collapsed": false
   },
   "id": "f56976cd469e9637"
  },
  {
   "cell_type": "code",
   "execution_count": 132,
   "outputs": [
    {
     "data": {
      "text/plain": "0.9444444444444444"
     },
     "execution_count": 132,
     "metadata": {},
     "output_type": "execute_result"
    }
   ],
   "source": [
    "clf = svm.SVC(kernel='linear', C=1).fit(X_train, y_train)\n",
    "clf.score(X_test, y_test)"
   ],
   "metadata": {
    "collapsed": false,
    "ExecuteTime": {
     "end_time": "2024-03-21T17:51:50.806776Z",
     "start_time": "2024-03-21T17:51:50.692585Z"
    }
   },
   "id": "cd3e85b86a8d4716"
  },
  {
   "cell_type": "code",
   "execution_count": 133,
   "outputs": [
    {
     "data": {
      "text/plain": "0.75"
     },
     "execution_count": 133,
     "metadata": {},
     "output_type": "execute_result"
    }
   ],
   "source": [
    "clf = svm.SVC(kernel='poly', C=1).fit(X_train, y_train)\n",
    "clf.score(X_test, y_test)"
   ],
   "metadata": {
    "collapsed": false,
    "ExecuteTime": {
     "end_time": "2024-03-21T17:51:50.806932Z",
     "start_time": "2024-03-21T17:51:50.697422Z"
    }
   },
   "id": "c2dd5c147932707a"
  },
  {
   "cell_type": "code",
   "execution_count": 134,
   "outputs": [
    {
     "data": {
      "text/plain": "0.6944444444444444"
     },
     "execution_count": 134,
     "metadata": {},
     "output_type": "execute_result"
    }
   ],
   "source": [
    "clf = svm.SVC(kernel='rbf', C=1).fit(X_train, y_train)\n",
    "clf.score(X_test, y_test)"
   ],
   "metadata": {
    "collapsed": false,
    "ExecuteTime": {
     "end_time": "2024-03-21T17:51:50.807008Z",
     "start_time": "2024-03-21T17:51:50.701449Z"
    }
   },
   "id": "2650458d18872af6"
  },
  {
   "cell_type": "code",
   "execution_count": 135,
   "outputs": [
    {
     "data": {
      "text/plain": "0.3055555555555556"
     },
     "execution_count": 135,
     "metadata": {},
     "output_type": "execute_result"
    }
   ],
   "source": [
    "clf = svm.SVC(kernel='sigmoid', C=1).fit(X_train, y_train)\n",
    "clf.score(X_test, y_test)"
   ],
   "metadata": {
    "collapsed": false,
    "ExecuteTime": {
     "end_time": "2024-03-21T17:51:50.807693Z",
     "start_time": "2024-03-21T17:51:50.706305Z"
    }
   },
   "id": "b26f2ae229d5c67d"
  },
  {
   "cell_type": "markdown",
   "source": [
    "### Najelpszy wynik uzyskał kernel='linear' ALE jest on bardzo blisko przetrenowaniu więc według mnie najlepszy wynik uzyskał kernel='poly'"
   ],
   "metadata": {
    "collapsed": false
   },
   "id": "7b28f66a41ef8213"
  },
  {
   "cell_type": "code",
   "execution_count": 136,
   "outputs": [],
   "source": [
    "# computing cross-validation metrics\n",
    "# cv = 5"
   ],
   "metadata": {
    "collapsed": false,
    "ExecuteTime": {
     "end_time": "2024-03-21T17:51:50.808813Z",
     "start_time": "2024-03-21T17:51:50.710128Z"
    }
   },
   "id": "bd66b10854e03eaa"
  },
  {
   "cell_type": "code",
   "execution_count": 137,
   "outputs": [
    {
     "name": "stdout",
     "output_type": "stream",
     "text": [
      "----- linear ------\n",
      "[0.83333333 0.91666667 0.91666667 1.         0.95833333]\n",
      "0.9000 accuracy with a standard deviation of 0.0553\n",
      "----- poly ------\n",
      "[1.         0.79166667 0.79166667 0.66666667 0.625     ]\n",
      "0.9000 accuracy with a standard deviation of 0.1307\n",
      "----- rbf ------\n",
      "[1.         0.79166667 0.75       0.625      0.625     ]\n",
      "0.9000 accuracy with a standard deviation of 0.1379\n",
      "----- sigmoid ------\n",
      "[0.         0.20833333 0.29166667 0.375      0.5       ]\n",
      "0.9000 accuracy with a standard deviation of 0.1679\n"
     ]
    }
   ],
   "source": [
    "# K-Fold\n",
    "for kernel in ['linear', 'poly', 'rbf', 'sigmoid']:\n",
    "    clf = svm.SVC(kernel=kernel, C=1, random_state=42)\n",
    "    scores = cross_val_score(clf, X, y, cv=5)\n",
    "    print(f'----- {kernel} ------')\n",
    "    print(scores)\n",
    "    print('%0.4f accuracy with a standard deviation of %0.4f' % (score.mean(), scores.std()))"
   ],
   "metadata": {
    "collapsed": false,
    "ExecuteTime": {
     "end_time": "2024-03-21T17:51:50.809685Z",
     "start_time": "2024-03-21T17:51:50.713013Z"
    }
   },
   "id": "2b63cfd351a12def"
  },
  {
   "cell_type": "markdown",
   "source": [
    "### Najlepszy wynik osiągnęło kernel=linear"
   ],
   "metadata": {
    "collapsed": false
   },
   "id": "d4daa303820dbf92"
  },
  {
   "cell_type": "code",
   "execution_count": 138,
   "outputs": [
    {
     "name": "stdout",
     "output_type": "stream",
     "text": [
      "----- linear ------\n",
      "[0.83216783 0.91608392 0.91666667 1.         0.95826087]\n",
      "0.9000 accuracy with a standard deviation of 0.0557\n",
      "----- poly ------\n",
      "[1.         0.77229602 0.78221416 0.59663866 0.56363636]\n",
      "0.9000 accuracy with a standard deviation of 0.1562\n",
      "----- rbf ------\n",
      "[1.         0.77229602 0.74285714 0.60798548 0.56363636]\n",
      "0.9000 accuracy with a standard deviation of 0.1531\n",
      "----- sigmoid ------\n",
      "[0.         0.17241379 0.29043478 0.36507937 0.33333333]\n",
      "0.9000 accuracy with a standard deviation of 0.1332\n"
     ]
    }
   ],
   "source": [
    "# K-Fold (f1_macro)\n",
    "\n",
    "for kernel in ['linear', 'poly', 'rbf', 'sigmoid']:\n",
    "    clf = svm.SVC(kernel=kernel, C=1, random_state=42)\n",
    "    scores = cross_val_score(clf, X, y, cv=5, scoring='f1_macro')\n",
    "    print(f'----- {kernel} ------')\n",
    "    print(scores)\n",
    "    print('%0.4f accuracy with a standard deviation of %0.4f' % (score.mean(), scores.std()))"
   ],
   "metadata": {
    "collapsed": false,
    "ExecuteTime": {
     "end_time": "2024-03-21T17:51:50.811408Z",
     "start_time": "2024-03-21T17:51:50.751065Z"
    }
   },
   "id": "cc7b09a170986b0c"
  },
  {
   "cell_type": "markdown",
   "source": [
    "### Najlepszy wynik osiągnęło kernel=linear"
   ],
   "metadata": {
    "collapsed": false
   },
   "id": "d6d6fa5be3d30d1d"
  },
  {
   "cell_type": "code",
   "execution_count": 139,
   "outputs": [
    {
     "name": "stdout",
     "output_type": "stream",
     "text": [
      "----- linear ------\n",
      "[0.94444444 0.94444444 0.91666667 0.97222222 0.97222222]\n",
      "0.9000 accuracy with a standard deviation of 0.0208\n",
      "----- poly ------\n",
      "[0.75       0.75       0.63888889 0.77777778 0.83333333]\n",
      "0.9000 accuracy with a standard deviation of 0.0633\n",
      "----- rbf ------\n",
      "[0.69444444 0.77777778 0.58333333 0.77777778 0.77777778]\n",
      "0.9000 accuracy with a standard deviation of 0.0766\n",
      "----- sigmoid ------\n",
      "[0.30555556 0.33333333 0.44444444 0.30555556 0.36111111]\n",
      "0.9000 accuracy with a standard deviation of 0.0515\n"
     ]
    }
   ],
   "source": [
    "from sklearn.model_selection import ShuffleSplit\n",
    "for kernel in ['linear', 'poly', 'rbf', 'sigmoid']:\n",
    "    clf = svm.SVC(kernel=kernel, C=1, random_state=42)\n",
    "    cv = ShuffleSplit(n_splits=5, test_size=0.3, random_state=0)\n",
    "    scores = cross_val_score(clf, X, y, cv=cv)\n",
    "    print(f'----- {kernel} ------')\n",
    "    print(scores)\n",
    "    print('%0.4f accuracy with a standard deviation of %0.4f' % (score.mean(), scores.std()))"
   ],
   "metadata": {
    "collapsed": false,
    "ExecuteTime": {
     "end_time": "2024-03-21T17:51:50.916764Z",
     "start_time": "2024-03-21T17:51:50.811268Z"
    }
   },
   "id": "9f8c6768e66ea4d8"
  },
  {
   "cell_type": "markdown",
   "source": [
    "### Najlepszy wynik osiągnęło kernel=linear"
   ],
   "metadata": {
    "collapsed": false
   },
   "id": "6e83212062486d07"
  },
  {
   "cell_type": "code",
   "execution_count": 140,
   "outputs": [
    {
     "name": "stdout",
     "output_type": "stream",
     "text": [
      "----- linear ------\n",
      "[0.91666667 0.91666667 0.95833333 0.91666667 0.95833333]\n",
      "0.9000 accuracy with a standard deviation of 0.0204\n",
      "----- poly ------\n",
      "[0.79166667 0.70833333 0.91666667 0.79166667 0.83333333]\n",
      "0.9000 accuracy with a standard deviation of 0.0677\n",
      "----- rbf ------\n",
      "[0.75       0.625      0.875      0.79166667 0.79166667]\n",
      "0.9000 accuracy with a standard deviation of 0.0816\n",
      "----- sigmoid ------\n",
      "[0.25       0.375      0.125      0.33333333 0.33333333]\n",
      "0.9000 accuracy with a standard deviation of 0.0890\n"
     ]
    }
   ],
   "source": [
    "from sklearn.model_selection import StratifiedKFold\n",
    "\n",
    "for kernel in ['linear', 'poly', 'rbf', 'sigmoid']:\n",
    "    clf = svm.SVC(kernel=kernel, C=1, random_state=42)\n",
    "    cv = StratifiedKFold(n_splits=5, shuffle=True, random_state=0)\n",
    "    scores = cross_val_score(clf, X, y, cv=cv)\n",
    "    print(f'----- {kernel} ------')\n",
    "    print(scores)\n",
    "    print('%0.4f accuracy with a standard deviation of %0.4f' % (score.mean(), scores.std()))"
   ],
   "metadata": {
    "collapsed": false,
    "ExecuteTime": {
     "end_time": "2024-03-21T17:51:50.917451Z",
     "start_time": "2024-03-21T17:51:50.853794Z"
    }
   },
   "id": "baf890b8e4ae35c3"
  },
  {
   "cell_type": "markdown",
   "source": [
    "### Najlepszy wynik osiągnęło kernel=linear"
   ],
   "metadata": {
    "collapsed": false
   },
   "id": "bfeac4ec1bf2b9ec"
  }
 ],
 "metadata": {
  "kernelspec": {
   "display_name": "Python 3",
   "language": "python",
   "name": "python3"
  },
  "language_info": {
   "codemirror_mode": {
    "name": "ipython",
    "version": 2
   },
   "file_extension": ".py",
   "mimetype": "text/x-python",
   "name": "python",
   "nbconvert_exporter": "python",
   "pygments_lexer": "ipython2",
   "version": "2.7.6"
  }
 },
 "nbformat": 4,
 "nbformat_minor": 5
}
