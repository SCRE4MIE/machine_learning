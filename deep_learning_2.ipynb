{
 "cells": [
  {
   "cell_type": "markdown",
   "source": [
    "# Deep learning  two layers\n",
    "## Mateusz Baran\n",
    "### 155620"
   ],
   "metadata": {
    "collapsed": false
   },
   "id": "9c78405892dbd210"
  },
  {
   "cell_type": "code",
   "execution_count": 28,
   "outputs": [],
   "source": [
    "import numpy as np\n",
    "import matplotlib.pyplot as plt\n",
    "from sklearn.model_selection import train_test_split"
   ],
   "metadata": {
    "collapsed": false,
    "ExecuteTime": {
     "end_time": "2024-04-25T10:14:41.766603Z",
     "start_time": "2024-04-25T10:14:41.741750Z"
    }
   },
   "id": "eb69d74e980d60bd"
  },
  {
   "cell_type": "code",
   "execution_count": 29,
   "outputs": [
    {
     "data": {
      "text/plain": "(-0.5, 63.5, 63.5, -0.5)"
     },
     "execution_count": 29,
     "metadata": {},
     "output_type": "execute_result"
    },
    {
     "data": {
      "text/plain": "<Figure size 640x480 with 2 Axes>",
      "image/png": "[encoded data removed]"
     },
     "metadata": {},
     "output_type": "display_data"
    }
   ],
   "source": [
    "x_1 = np.load('data/X.npy')\n",
    "Y_1 = np.load('data/Y.npy')\n",
    "\n",
    "img_size = 64\n",
    "plt.subplot(1, 2, 1)\n",
    "plt.imshow(x_1[260].reshape(img_size, img_size))\n",
    "plt.axis('off')\n",
    "plt.subplot(1, 2, 2)\n",
    "plt.imshow(x_1[900].reshape(img_size, img_size))\n",
    "plt.axis('off')"
   ],
   "metadata": {
    "collapsed": false,
    "ExecuteTime": {
     "end_time": "2024-04-25T10:14:41.830300Z",
     "start_time": "2024-04-25T10:14:41.748186Z"
    }
   },
   "id": "d8bbfd1cf0c3e9fa"
  },
  {
   "cell_type": "code",
   "execution_count": 30,
   "outputs": [
    {
     "name": "stdout",
     "output_type": "stream",
     "text": [
      "X shape: (410, 64, 64)\n",
      "Y shape: (410, 1)\n"
     ]
    }
   ],
   "source": [
    "X = np.concatenate((x_1[204:409], x_1[822:1027]), axis=0)\n",
    "z = np.zeros(205)\n",
    "o = np.ones(205)\n",
    "Y = np.concatenate((z, o), axis=0).reshape(X.shape[0], 1)\n",
    "print(f'X shape: {X.shape}')\n",
    "print(f'Y shape: {Y.shape}')"
   ],
   "metadata": {
    "collapsed": false,
    "ExecuteTime": {
     "end_time": "2024-04-25T10:14:41.867219Z",
     "start_time": "2024-04-25T10:14:41.799473Z"
    }
   },
   "id": "4b40094aab74a614"
  },
  {
   "cell_type": "code",
   "execution_count": 31,
   "outputs": [
    {
     "name": "stdout",
     "output_type": "stream",
     "text": [
      "X train flatten (348, 4096)\n",
      "X test flatten (62, 4096)\n"
     ]
    }
   ],
   "source": [
    "X_train, X_test, Y_train, Y_test = train_test_split(X, Y, test_size=0.15, random_state=42)\n",
    "number_of_train = X_train.shape[0]\n",
    "number_of_test = X_test.shape[0]\n",
    "X_train_flatten = X_train.reshape(number_of_train, X_train.shape[1]*X_train.shape[2])\n",
    "X_test_flatten = X_test.reshape(number_of_test, X_test.shape[1]*X_test.shape[2])\n",
    "\n",
    "print(f'X train flatten {X_train_flatten.shape}')\n",
    "print(f'X test flatten {X_test_flatten.shape}')"
   ],
   "metadata": {
    "collapsed": false,
    "ExecuteTime": {
     "end_time": "2024-04-25T10:14:41.867452Z",
     "start_time": "2024-04-25T10:14:41.806157Z"
    }
   },
   "id": "4523c20f7c8dff9b"
  },
  {
   "cell_type": "code",
   "execution_count": 32,
   "outputs": [
    {
     "name": "stdout",
     "output_type": "stream",
     "text": [
      "x train: (4096, 348)\n",
      "x test: (4096, 62)\n",
      "y train: (1, 348)\n",
      "y test: (1, 62)\n"
     ]
    }
   ],
   "source": [
    "x_train = X_train_flatten.T\n",
    "x_test = X_test_flatten.T\n",
    "y_train = Y_train.T\n",
    "y_test = Y_test.T\n",
    "\n",
    "print(f'x train: {x_train.shape}')\n",
    "print(f'x test: {x_test.shape}')\n",
    "print(f'y train: {y_train.shape}')\n",
    "print(f'y test: {y_test.shape}')"
   ],
   "metadata": {
    "collapsed": false,
    "ExecuteTime": {
     "end_time": "2024-04-25T10:14:41.867555Z",
     "start_time": "2024-04-25T10:14:41.809917Z"
    }
   },
   "id": "27f1902a9439b851"
  },
  {
   "cell_type": "code",
   "execution_count": 33,
   "outputs": [],
   "source": [
    "def initialize_parameters_and_layer_sizes_NN(x_train, y_train):\n",
    "    parameters = {\n",
    "        'weight1': np.random.randn(3, x_train.shape[0]) * 0.1,\n",
    "        'bias1': np.zeros((3, 1)),\n",
    "        'weight2': np.random.randn(y_train.shape[0], 3) * 0.1,\n",
    "        'bias2': np.zeros((y_train.shape[0], 1))\n",
    "    }\n",
    "    return parameters"
   ],
   "metadata": {
    "collapsed": false,
    "ExecuteTime": {
     "end_time": "2024-04-25T10:14:41.867893Z",
     "start_time": "2024-04-25T10:14:41.814688Z"
    }
   },
   "id": "55f1397fab34c984"
  },
  {
   "cell_type": "code",
   "execution_count": 34,
   "outputs": [],
   "source": [
    "def sigmoid(z):\n",
    "    y_head = 1/(1+np.exp(-z))\n",
    "    return y_head\n",
    "\n",
    "def forward_propagation_NN(x_train, parameters):\n",
    "    Z1 = np.dot(parameters['weight1'], x_train) + parameters['bias1']\n",
    "    A1 = np.tanh(Z1)\n",
    "    Z2 = np.dot(parameters['weight2'], A1) + parameters['bias2']\n",
    "    A2 = sigmoid(Z2)\n",
    "    \n",
    "    cache = {\n",
    "        'Z1': Z1,\n",
    "        'A1': A1,\n",
    "        'Z2': Z2,\n",
    "        'A2': A2,\n",
    "    }\n",
    "    \n",
    "    return A2, cache\n",
    "\n",
    "def compute_cost_NN(A2, Y, parameters):\n",
    "    logprobs = np.multiply(np.log(A2), Y)\n",
    "    cost = -np.sum(logprobs)/Y.shape[1]\n",
    "    return cost\n",
    "\n",
    "def backward_propagation_NN(parameters, cache, X, Y):\n",
    "    dZ2 = cache['A2'] - Y\n",
    "    dW2 = np.dot(dZ2, cache['A1'].T)/X.shape[1]\n",
    "    db2 = np.sum(dZ2, axis=1, keepdims=True)/X.shape[1]\n",
    "    dZ1 = np.dot(parameters['weight2'].T, dZ2) * (1-np.power(cache['A1'], 2))\n",
    "    dW1 = np.dot(dZ1, X.T)/X.shape[1]\n",
    "    db1 = np.sum(dZ1, axis=1, keepdims=True)/X.shape[1]\n",
    "    grads = {\n",
    "        'dweight1': dW1,\n",
    "        'dbias1': db1,\n",
    "        'dweight2': dW2,\n",
    "        'dbias2': db2,\n",
    "    }\n",
    "    return grads\n",
    "\n",
    "def update_parameters_NN(parameters, grads, learning_rate=0.01):\n",
    "    parameters = {\n",
    "        'weight1': parameters['weight1'] - learning_rate * grads['dweight1'],\n",
    "        'bias1': parameters['bias1'] - learning_rate * grads['dbias1'],\n",
    "        'weight2': parameters['weight2'] - learning_rate * grads['dweight2'],\n",
    "        'bias2': parameters['bias2'] - learning_rate * grads['dbias2'],\n",
    "    }\n",
    "    return parameters\n",
    "\n",
    "def predict_NN(parameters, x_test):\n",
    "    A2, cache = forward_propagation_NN(x_test, parameters)\n",
    "    Y_prediction = np.zeros((1, x_test.shape[1]))\n",
    "    for i in range(A2.shape[1]):\n",
    "        if A2[0, i] <= 0.5:\n",
    "            Y_prediction[0, i] = 0\n",
    "        else:\n",
    "            Y_prediction[0, i] = 1\n",
    "    return Y_prediction\n",
    "\n",
    "\n",
    "def two_layer_neural_network(x_train, y_train, x_test, y_test, num_iterations):\n",
    "    cost_list = []\n",
    "    index_list = []\n",
    "    \n",
    "    parameters = initialize_parameters_and_layer_sizes_NN(x_train, y_train)\n",
    "    \n",
    "    for i in range(0, num_iterations):\n",
    "        A2, cache = forward_propagation_NN(x_train, parameters)\n",
    "        cost = compute_cost_NN(A2, y_train, parameters)\n",
    "        grads = backward_propagation_NN(parameters, cache, x_train, y_train)\n",
    "        parameters = update_parameters_NN(parameters, grads)\n",
    "        \n",
    "        if i % 100 == 0:\n",
    "            cost_list.append(cost)\n",
    "            index_list.append(i)\n",
    "            print('Cost after iteration %i: %f' %(i, cost))\n",
    "    \n",
    "    plt.plot(index_list, cost_list)\n",
    "    plt.xticks(index_list, rotation='vertical')\n",
    "    plt.xlabel('Number of iteration')\n",
    "    plt.ylabel('Cost')\n",
    "    plt.show()\n",
    "    \n",
    "    y_prediction_test = predict_NN(parameters, x_test)\n",
    "    y_prediction_train = predict_NN(parameters, x_train)\n",
    "    \n",
    "    print('train accuracy: {} %'.format(100 - np.mean(np.abs(y_prediction_train - y_train)) * 100))\n",
    "    print('test accuracy: {} %'.format(100 - np.mean(np.abs(y_prediction_test - y_test)) * 100))\n",
    "    \n",
    "    return parameters"
   ],
   "metadata": {
    "collapsed": false,
    "ExecuteTime": {
     "end_time": "2024-04-25T10:14:41.867960Z",
     "start_time": "2024-04-25T10:14:41.821307Z"
    }
   },
   "id": "949c3df46c526824"
  },
  {
   "cell_type": "code",
   "execution_count": 35,
   "outputs": [
    {
     "name": "stdout",
     "output_type": "stream",
     "text": [
      "Cost after iteration 0: 0.313958\n",
      "Cost after iteration 100: 0.321558\n",
      "Cost after iteration 200: 0.318935\n",
      "Cost after iteration 300: 0.296353\n",
      "Cost after iteration 400: 0.259022\n",
      "Cost after iteration 500: 0.220907\n",
      "Cost after iteration 600: 0.188055\n",
      "Cost after iteration 700: 0.163450\n",
      "Cost after iteration 800: 0.143478\n",
      "Cost after iteration 900: 0.121172\n",
      "Cost after iteration 1000: 0.114220\n",
      "Cost after iteration 1100: 0.105415\n",
      "Cost after iteration 1200: 0.096937\n",
      "Cost after iteration 1300: 0.089571\n",
      "Cost after iteration 1400: 0.082863\n",
      "Cost after iteration 1500: 0.076234\n",
      "Cost after iteration 1600: 0.069321\n",
      "Cost after iteration 1700: 0.062631\n",
      "Cost after iteration 1800: 0.056779\n",
      "Cost after iteration 1900: 0.052008\n",
      "Cost after iteration 2000: 0.048278\n",
      "Cost after iteration 2100: 0.045325\n",
      "Cost after iteration 2200: 0.042893\n",
      "Cost after iteration 2300: 0.040819\n",
      "Cost after iteration 2400: 0.039012\n"
     ]
    },
    {
     "data": {
      "text/plain": "<Figure size 640x480 with 1 Axes>",
      "image/png": "[encoded data removed]"
     },
     "metadata": {},
     "output_type": "display_data"
    },
    {
     "name": "stdout",
     "output_type": "stream",
     "text": [
      "train accuracy: 99.71264367816092 %\n",
      "test accuracy: 93.54838709677419 %\n"
     ]
    }
   ],
   "source": [
    "parameters = two_layer_neural_network(x_train, y_train, x_test, y_test, num_iterations=2500)"
   ],
   "metadata": {
    "collapsed": false,
    "ExecuteTime": {
     "end_time": "2024-04-25T10:14:49.868119Z",
     "start_time": "2024-04-25T10:14:41.823658Z"
    }
   },
   "id": "a4431fce3f2917ac"
  },
  {
   "cell_type": "code",
   "execution_count": 35,
   "outputs": [],
   "source": [],
   "metadata": {
    "collapsed": false,
    "ExecuteTime": {
     "end_time": "2024-04-25T10:14:49.921302Z",
     "start_time": "2024-04-25T10:14:49.868618Z"
    }
   },
   "id": "b4abd979b07aec11"
  }
 ],
 "metadata": {
  "kernelspec": {
   "display_name": "Python 3",
   "language": "python",
   "name": "python3"
  },
  "language_info": {
   "codemirror_mode": {
    "name": "ipython",
    "version": 2
   },
   "file_extension": ".py",
   "mimetype": "text/x-python",
   "name": "python",
   "nbconvert_exporter": "python",
   "pygments_lexer": "ipython2",
   "version": "2.7.6"
  }
 },
 "nbformat": 4,
 "nbformat_minor": 5
}
