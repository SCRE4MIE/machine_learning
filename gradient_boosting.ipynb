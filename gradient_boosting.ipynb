{
 "cells": [
  {
   "cell_type": "markdown",
   "source": [
    "# Gradient boosting\n",
    "## Mateusz Baran\n",
    "### 155620"
   ],
   "metadata": {
    "collapsed": false
   },
   "id": "65cfe71b09ddadfa"
  },
  {
   "cell_type": "code",
   "execution_count": 165,
   "outputs": [],
   "source": [
    "import pandas as pd\n",
    "from sklearn.model_selection import train_test_split\n",
    "from sklearn.metrics import accuracy_score, confusion_matrix\n",
    "from xgboost.sklearn import XGBClassifier\n",
    "from xgboost import plot_importance\n",
    "import matplotlib.pyplot as plt"
   ],
   "metadata": {
    "collapsed": false,
    "ExecuteTime": {
     "end_time": "2024-04-04T16:46:53.339710Z",
     "start_time": "2024-04-04T16:46:53.299469Z"
    }
   },
   "id": "501dca4db693e4d1"
  },
  {
   "cell_type": "markdown",
   "source": [
    "## Diabetes"
   ],
   "metadata": {
    "collapsed": false
   },
   "id": "ad5b38a15b2c659a"
  },
  {
   "cell_type": "code",
   "execution_count": 166,
   "outputs": [
    {
     "data": {
      "text/plain": "   Pregnancies  Glucose  BloodPressure  SkinThickness  Insulin   BMI  \\\n0            6      148             72             35        0  33.6   \n1            1       85             66             29        0  26.6   \n2            8      183             64              0        0  23.3   \n3            1       89             66             23       94  28.1   \n4            0      137             40             35      168  43.1   \n\n   DiabetesPedigreeFunction  Age  Outcome  \n0                     0.627   50        1  \n1                     0.351   31        0  \n2                     0.672   32        1  \n3                     0.167   21        0  \n4                     2.288   33        1  ",
      "text/html": "<div>\n<style scoped>\n    .dataframe tbody tr th:only-of-type {\n        vertical-align: middle;\n    }\n\n    .dataframe tbody tr th {\n        vertical-align: top;\n    }\n\n    .dataframe thead th {\n        text-align: right;\n    }\n</style>\n<table border=\"1\" class=\"dataframe\">\n  <thead>\n    <tr style=\"text-align: right;\">\n      <th></th>\n      <th>Pregnancies</th>\n      <th>Glucose</th>\n      <th>BloodPressure</th>\n      <th>SkinThickness</th>\n      <th>Insulin</th>\n      <th>BMI</th>\n      <th>DiabetesPedigreeFunction</th>\n      <th>Age</th>\n      <th>Outcome</th>\n    </tr>\n  </thead>\n  <tbody>\n    <tr>\n      <th>0</th>\n      <td>6</td>\n      <td>148</td>\n      <td>72</td>\n      <td>35</td>\n      <td>0</td>\n      <td>33.6</td>\n      <td>0.627</td>\n      <td>50</td>\n      <td>1</td>\n    </tr>\n    <tr>\n      <th>1</th>\n      <td>1</td>\n      <td>85</td>\n      <td>66</td>\n      <td>29</td>\n      <td>0</td>\n      <td>26.6</td>\n      <td>0.351</td>\n      <td>31</td>\n      <td>0</td>\n    </tr>\n    <tr>\n      <th>2</th>\n      <td>8</td>\n      <td>183</td>\n      <td>64</td>\n      <td>0</td>\n      <td>0</td>\n      <td>23.3</td>\n      <td>0.672</td>\n      <td>32</td>\n      <td>1</td>\n    </tr>\n    <tr>\n      <th>3</th>\n      <td>1</td>\n      <td>89</td>\n      <td>66</td>\n      <td>23</td>\n      <td>94</td>\n      <td>28.1</td>\n      <td>0.167</td>\n      <td>21</td>\n      <td>0</td>\n    </tr>\n    <tr>\n      <th>4</th>\n      <td>0</td>\n      <td>137</td>\n      <td>40</td>\n      <td>35</td>\n      <td>168</td>\n      <td>43.1</td>\n      <td>2.288</td>\n      <td>33</td>\n      <td>1</td>\n    </tr>\n  </tbody>\n</table>\n</div>"
     },
     "execution_count": 166,
     "metadata": {},
     "output_type": "execute_result"
    }
   ],
   "source": [
    "data = pd.read_csv('data/diabetes.csv')\n",
    "data.head()"
   ],
   "metadata": {
    "collapsed": false,
    "ExecuteTime": {
     "end_time": "2024-04-04T16:46:53.347818Z",
     "start_time": "2024-04-04T16:46:53.303400Z"
    }
   },
   "id": "6305dc7aec75d8c9"
  },
  {
   "cell_type": "code",
   "execution_count": 167,
   "outputs": [],
   "source": [
    "# drop null values\n",
    "data.dropna(inplace=True)"
   ],
   "metadata": {
    "collapsed": false,
    "ExecuteTime": {
     "end_time": "2024-04-04T16:46:53.367153Z",
     "start_time": "2024-04-04T16:46:53.312804Z"
    }
   },
   "id": "70f973acc01ec588"
  },
  {
   "cell_type": "code",
   "execution_count": 168,
   "outputs": [],
   "source": [
    "# prepare X and Y\n",
    "X = pd.get_dummies(data)\n",
    "X.drop(['Outcome'], inplace=True, axis=1)\n",
    "y = data['Outcome']"
   ],
   "metadata": {
    "collapsed": false,
    "ExecuteTime": {
     "end_time": "2024-04-04T16:46:53.375458Z",
     "start_time": "2024-04-04T16:46:53.318234Z"
    }
   },
   "id": "c6e0c96186f67574"
  },
  {
   "cell_type": "code",
   "execution_count": 169,
   "outputs": [],
   "source": [
    "X_train, X_test, y_train, y_test = train_test_split(X, y, test_size=0.30)"
   ],
   "metadata": {
    "collapsed": false,
    "ExecuteTime": {
     "end_time": "2024-04-04T16:46:53.377021Z",
     "start_time": "2024-04-04T16:46:53.322797Z"
    }
   },
   "id": "f0c230fd883d8c39"
  },
  {
   "cell_type": "code",
   "execution_count": 170,
   "outputs": [
    {
     "name": "stdout",
     "output_type": "stream",
     "text": [
      "Shape of X_train: (537, 8)\n",
      "Shape of X_test: (231, 8)\n"
     ]
    }
   ],
   "source": [
    "print(f'Shape of X_train: {X_train.shape}')\n",
    "print(f'Shape of X_test: {X_test.shape}')"
   ],
   "metadata": {
    "collapsed": false,
    "ExecuteTime": {
     "end_time": "2024-04-04T16:46:53.377144Z",
     "start_time": "2024-04-04T16:46:53.328394Z"
    }
   },
   "id": "649d3a2f70de9643"
  },
  {
   "cell_type": "code",
   "execution_count": 171,
   "outputs": [],
   "source": [
    "hiperparameters_dict = [\n",
    "    {'n_estimators': 1000, 'max_depth': 5, 'learning_rate': 0.8},\n",
    "    {'n_estimators': 1000, 'max_depth': 10, 'learning_rate': 0.8},\n",
    "    {'n_estimators': 1000, 'max_depth': 20, 'learning_rate': 0.1},\n",
    "    {'n_estimators': 1000, 'max_depth': 20, 'learning_rate': 0.01},\n",
    "    {'n_estimators': 500, 'max_depth': 5, 'learning_rate': 0.8},\n",
    "    {'n_estimators': 500, 'max_depth': 10, 'learning_rate': 0.8},\n",
    "    {'n_estimators': 500, 'max_depth': 20, 'learning_rate': 0.8},\n",
    "    {'n_estimators': 100, 'max_depth': 5, 'learning_rate': 0.01},\n",
    "    {'n_estimators': 100, 'max_depth': 10, 'learning_rate': 0.01},\n",
    "    {'n_estimators': 100, 'max_depth': 20, 'learning_rate': 0.01},\n",
    "]\n",
    "models_store = []"
   ],
   "metadata": {
    "collapsed": false,
    "ExecuteTime": {
     "end_time": "2024-04-04T16:46:53.377519Z",
     "start_time": "2024-04-04T16:46:53.332321Z"
    }
   },
   "id": "89b8719ee1885f67"
  },
  {
   "cell_type": "code",
   "execution_count": 172,
   "outputs": [
    {
     "name": "stdout",
     "output_type": "stream",
     "text": [
      "Model id: 0 with hiperparameters:\n",
      "\n",
      " n_estimators=1000, max_depth=5, learning_rate=0.8\n",
      "\n",
      "Test Accuracy of XBG Classifier: 71.86\n",
      "\n",
      "test confusion_matrix\n",
      "[[121  38]\n",
      " [ 27  45]]\n",
      "\n",
      "Train Accuracy of XBG Classifier: 100.00\n",
      "\n",
      "train confusion_matrix\n",
      "[[352   0]\n",
      " [  0 185]]\n",
      "====================================================================================================\n",
      "Model id: 1 with hiperparameters:\n",
      "\n",
      " n_estimators=1000, max_depth=10, learning_rate=0.8\n",
      "\n",
      "Test Accuracy of XBG Classifier: 73.16\n",
      "\n",
      "test confusion_matrix\n",
      "[[120  34]\n",
      " [ 28  49]]\n",
      "\n",
      "Train Accuracy of XBG Classifier: 100.00\n",
      "\n",
      "train confusion_matrix\n",
      "[[352   0]\n",
      " [  0 185]]\n",
      "====================================================================================================\n",
      "Model id: 2 with hiperparameters:\n",
      "\n",
      " n_estimators=1000, max_depth=20, learning_rate=0.1\n",
      "\n",
      "Test Accuracy of XBG Classifier: 71.86\n",
      "\n",
      "test confusion_matrix\n",
      "[[120  37]\n",
      " [ 28  46]]\n",
      "\n",
      "Train Accuracy of XBG Classifier: 100.00\n",
      "\n",
      "train confusion_matrix\n",
      "[[352   0]\n",
      " [  0 185]]\n",
      "====================================================================================================\n",
      "Model id: 3 with hiperparameters:\n",
      "\n",
      " n_estimators=1000, max_depth=20, learning_rate=0.01\n",
      "\n",
      "Test Accuracy of XBG Classifier: 73.59\n",
      "\n",
      "test confusion_matrix\n",
      "[[123  36]\n",
      " [ 25  47]]\n",
      "\n",
      "Train Accuracy of XBG Classifier: 100.00\n",
      "\n",
      "train confusion_matrix\n",
      "[[352   0]\n",
      " [  0 185]]\n",
      "====================================================================================================\n",
      "Model id: 4 with hiperparameters:\n",
      "\n",
      " n_estimators=500, max_depth=5, learning_rate=0.8\n",
      "\n",
      "Test Accuracy of XBG Classifier: 71.00\n",
      "\n",
      "test confusion_matrix\n",
      "[[120  39]\n",
      " [ 28  44]]\n",
      "\n",
      "Train Accuracy of XBG Classifier: 100.00\n",
      "\n",
      "train confusion_matrix\n",
      "[[352   0]\n",
      " [  0 185]]\n",
      "====================================================================================================\n",
      "Model id: 5 with hiperparameters:\n",
      "\n",
      " n_estimators=500, max_depth=10, learning_rate=0.8\n",
      "\n",
      "Test Accuracy of XBG Classifier: 72.29\n",
      "\n",
      "test confusion_matrix\n",
      "[[120  36]\n",
      " [ 28  47]]\n",
      "\n",
      "Train Accuracy of XBG Classifier: 100.00\n",
      "\n",
      "train confusion_matrix\n",
      "[[352   0]\n",
      " [  0 185]]\n",
      "====================================================================================================\n",
      "Model id: 6 with hiperparameters:\n",
      "\n",
      " n_estimators=500, max_depth=20, learning_rate=0.8\n",
      "\n",
      "Test Accuracy of XBG Classifier: 72.29\n",
      "\n",
      "test confusion_matrix\n",
      "[[121  37]\n",
      " [ 27  46]]\n",
      "\n",
      "Train Accuracy of XBG Classifier: 100.00\n",
      "\n",
      "train confusion_matrix\n",
      "[[352   0]\n",
      " [  0 185]]\n",
      "====================================================================================================\n",
      "Model id: 7 with hiperparameters:\n",
      "\n",
      " n_estimators=100, max_depth=5, learning_rate=0.01\n",
      "\n",
      "Test Accuracy of XBG Classifier: 76.19\n",
      "\n",
      "test confusion_matrix\n",
      "[[132  39]\n",
      " [ 16  44]]\n",
      "\n",
      "Train Accuracy of XBG Classifier: 85.85\n",
      "\n",
      "train confusion_matrix\n",
      "[[340  64]\n",
      " [ 12 121]]\n",
      "====================================================================================================\n",
      "Model id: 8 with hiperparameters:\n",
      "\n",
      " n_estimators=100, max_depth=10, learning_rate=0.01\n",
      "\n",
      "Test Accuracy of XBG Classifier: 74.89\n",
      "\n",
      "test confusion_matrix\n",
      "[[129  39]\n",
      " [ 19  44]]\n",
      "\n",
      "Train Accuracy of XBG Classifier: 92.74\n",
      "\n",
      "train confusion_matrix\n",
      "[[348  35]\n",
      " [  4 150]]\n",
      "====================================================================================================\n",
      "Model id: 9 with hiperparameters:\n",
      "\n",
      " n_estimators=100, max_depth=20, learning_rate=0.01\n",
      "\n",
      "Test Accuracy of XBG Classifier: 75.32\n",
      "\n",
      "test confusion_matrix\n",
      "[[130  39]\n",
      " [ 18  44]]\n",
      "\n",
      "Train Accuracy of XBG Classifier: 92.74\n",
      "\n",
      "train confusion_matrix\n",
      "[[348  35]\n",
      " [  4 150]]\n",
      "====================================================================================================\n"
     ]
    }
   ],
   "source": [
    "for i, hiperparameters in enumerate(hiperparameters_dict):\n",
    "    model = XGBClassifier(\n",
    "        n_estimators=hiperparameters['n_estimators'],\n",
    "        max_depth=hiperparameters['max_depth'],\n",
    "        learning_rate=hiperparameters['learning_rate'],\n",
    "    )\n",
    "    model.fit(X_train, y_train)\n",
    "    print(f\"Model id: {i} with hiperparameters:\\n\\n n_estimators={hiperparameters['n_estimators']}, max_depth={hiperparameters['max_depth']}, learning_rate={hiperparameters['learning_rate']}\")\n",
    "    # make prediction for test data\n",
    "    y_pred = model.predict(X_test)\n",
    "    # evaluate prediction\n",
    "    model_score_test = accuracy_score(y_test, y_pred)\n",
    "    print('\\nTest Accuracy of XBG Classifier: {0:0.2f}'.format(model_score_test * 100.0))\n",
    "    # plot the predictions for train data\n",
    "    print('\\ntest confusion_matrix')\n",
    "    print(confusion_matrix(y_pred, y_test))\n",
    "    \n",
    "    y_pred = model.predict(X_train)\n",
    "    # evaluate prediction\n",
    "    model_score_train = accuracy_score(y_train, y_pred)\n",
    "    print('\\nTrain Accuracy of XBG Classifier: {0:0.2f}'.format(model_score_train * 100.0))\n",
    "    # plot the predictions for train data\n",
    "    print('\\ntrain confusion_matrix')\n",
    "    print(confusion_matrix(y_pred, y_train))\n",
    "    print('=====' *20)\n",
    "    \n",
    "    models_store.append(\n",
    "        {'model': model, 'accuracy_test': model_score_test * 100.0, 'accuracy_train': model_score_train * 100.0}\n",
    "    )\n",
    "    \n",
    "    "
   ],
   "metadata": {
    "collapsed": false,
    "ExecuteTime": {
     "end_time": "2024-04-04T16:46:55.390009Z",
     "start_time": "2024-04-04T16:46:53.337648Z"
    }
   },
   "id": "465d75bdbdaec30b"
  },
  {
   "cell_type": "markdown",
   "source": [
    "Najlepszy model ma takie hiperparametry:  n_estimators=100, max_depth=20, learning_rate=0.01"
   ],
   "metadata": {
    "collapsed": false
   },
   "id": "6a7e7fb3ae61c948"
  },
  {
   "cell_type": "markdown",
   "source": [],
   "metadata": {
    "collapsed": false
   },
   "id": "cbd2ef0fe3c0666"
  },
  {
   "cell_type": "code",
   "execution_count": 173,
   "outputs": [
    {
     "data": {
      "text/plain": "<Figure size 1000x1000 with 0 Axes>"
     },
     "metadata": {},
     "output_type": "display_data"
    },
    {
     "data": {
      "text/plain": "<Figure size 640x480 with 1 Axes>",
      "image/png": "[encoded data removed]"
     },
     "metadata": {},
     "output_type": "display_data"
    }
   ],
   "source": [
    "model = models_store[9]['model']\n",
    "plt.figure(figsize=(10,10))\n",
    "plot_importance(model, title='Feature importance from XGBoost model')\n",
    "plt.show()"
   ],
   "metadata": {
    "collapsed": false,
    "ExecuteTime": {
     "end_time": "2024-04-04T16:46:55.466814Z",
     "start_time": "2024-04-04T16:46:55.388902Z"
    }
   },
   "id": "5ce5a2ad2a7122b9"
  },
  {
   "cell_type": "markdown",
   "source": [
    "## Phytobasin"
   ],
   "metadata": {
    "collapsed": false
   },
   "id": "df5f9ee151bd7238"
  },
  {
   "cell_type": "code",
   "execution_count": 174,
   "outputs": [
    {
     "data": {
      "text/plain": "   Cyanobacteria  Chlorophyceae  Euglenophyceae  Diatomophyceae  Flagellata  \\\n0           2.35           3.08            0.92            0.23        0.00   \n1           6.39           2.87            0.49            0.01        0.00   \n2           2.05           7.47            0.00            0.06        0.17   \n3           6.30           5.03            0.00            0.11        0.10   \n4           3.77           5.69            0.00            0.01        0.04   \n\n   Dinoflagellata  Cryptophytes  picophytoplankton  Basin  \n0             0.0          0.00               3.20      0  \n1             0.0          0.00               2.42      0  \n2             0.0          0.00               2.61      0  \n3             0.0          0.00               2.49      0  \n4             0.0          0.02               1.73      0  ",
      "text/html": "<div>\n<style scoped>\n    .dataframe tbody tr th:only-of-type {\n        vertical-align: middle;\n    }\n\n    .dataframe tbody tr th {\n        vertical-align: top;\n    }\n\n    .dataframe thead th {\n        text-align: right;\n    }\n</style>\n<table border=\"1\" class=\"dataframe\">\n  <thead>\n    <tr style=\"text-align: right;\">\n      <th></th>\n      <th>Cyanobacteria</th>\n      <th>Chlorophyceae</th>\n      <th>Euglenophyceae</th>\n      <th>Diatomophyceae</th>\n      <th>Flagellata</th>\n      <th>Dinoflagellata</th>\n      <th>Cryptophytes</th>\n      <th>picophytoplankton</th>\n      <th>Basin</th>\n    </tr>\n  </thead>\n  <tbody>\n    <tr>\n      <th>0</th>\n      <td>2.35</td>\n      <td>3.08</td>\n      <td>0.92</td>\n      <td>0.23</td>\n      <td>0.00</td>\n      <td>0.0</td>\n      <td>0.00</td>\n      <td>3.20</td>\n      <td>0</td>\n    </tr>\n    <tr>\n      <th>1</th>\n      <td>6.39</td>\n      <td>2.87</td>\n      <td>0.49</td>\n      <td>0.01</td>\n      <td>0.00</td>\n      <td>0.0</td>\n      <td>0.00</td>\n      <td>2.42</td>\n      <td>0</td>\n    </tr>\n    <tr>\n      <th>2</th>\n      <td>2.05</td>\n      <td>7.47</td>\n      <td>0.00</td>\n      <td>0.06</td>\n      <td>0.17</td>\n      <td>0.0</td>\n      <td>0.00</td>\n      <td>2.61</td>\n      <td>0</td>\n    </tr>\n    <tr>\n      <th>3</th>\n      <td>6.30</td>\n      <td>5.03</td>\n      <td>0.00</td>\n      <td>0.11</td>\n      <td>0.10</td>\n      <td>0.0</td>\n      <td>0.00</td>\n      <td>2.49</td>\n      <td>0</td>\n    </tr>\n    <tr>\n      <th>4</th>\n      <td>3.77</td>\n      <td>5.69</td>\n      <td>0.00</td>\n      <td>0.01</td>\n      <td>0.04</td>\n      <td>0.0</td>\n      <td>0.02</td>\n      <td>1.73</td>\n      <td>0</td>\n    </tr>\n  </tbody>\n</table>\n</div>"
     },
     "execution_count": 174,
     "metadata": {},
     "output_type": "execute_result"
    }
   ],
   "source": [
    "data = pd.read_csv('data/vlaPhytoBasin.csv')\n",
    "data.head()"
   ],
   "metadata": {
    "collapsed": false,
    "ExecuteTime": {
     "end_time": "2024-04-04T16:46:55.478571Z",
     "start_time": "2024-04-04T16:46:55.465559Z"
    }
   },
   "id": "c728fabb2d5f7018"
  },
  {
   "cell_type": "code",
   "execution_count": 175,
   "outputs": [],
   "source": [
    "# drop null values\n",
    "data.dropna(inplace=True)"
   ],
   "metadata": {
    "collapsed": false,
    "ExecuteTime": {
     "end_time": "2024-04-04T16:46:55.483654Z",
     "start_time": "2024-04-04T16:46:55.475164Z"
    }
   },
   "id": "6e6c4fcee0b4adea"
  },
  {
   "cell_type": "code",
   "execution_count": 176,
   "outputs": [],
   "source": [
    "# prepare X and Y\n",
    "X = pd.get_dummies(data)\n",
    "X.drop(['Basin'], inplace=True, axis=1)\n",
    "y = data['Basin']"
   ],
   "metadata": {
    "collapsed": false,
    "ExecuteTime": {
     "end_time": "2024-04-04T16:46:55.528663Z",
     "start_time": "2024-04-04T16:46:55.482481Z"
    }
   },
   "id": "251727dc5ad93320"
  },
  {
   "cell_type": "code",
   "execution_count": 177,
   "outputs": [],
   "source": [
    "X_train, X_test, y_train, y_test = train_test_split(X, y, test_size=0.30)"
   ],
   "metadata": {
    "collapsed": false,
    "ExecuteTime": {
     "end_time": "2024-04-04T16:46:55.528823Z",
     "start_time": "2024-04-04T16:46:55.487458Z"
    }
   },
   "id": "bd4221f10c6babd2"
  },
  {
   "cell_type": "code",
   "execution_count": 178,
   "outputs": [
    {
     "name": "stdout",
     "output_type": "stream",
     "text": [
      "Shape of X_train: (108, 8)\n",
      "Shape of X_test: (47, 8)\n"
     ]
    }
   ],
   "source": [
    "print(f'Shape of X_train: {X_train.shape}')\n",
    "print(f'Shape of X_test: {X_test.shape}')"
   ],
   "metadata": {
    "collapsed": false,
    "ExecuteTime": {
     "end_time": "2024-04-04T16:46:55.528918Z",
     "start_time": "2024-04-04T16:46:55.489986Z"
    }
   },
   "id": "d62fa82950bb536d"
  },
  {
   "cell_type": "code",
   "execution_count": 179,
   "outputs": [],
   "source": [
    "hiperparameters_dict = [\n",
    "    {'n_estimators': 1000, 'max_depth': 5, 'learning_rate': 0.8},\n",
    "    {'n_estimators': 1000, 'max_depth': 10, 'learning_rate': 0.8},\n",
    "    {'n_estimators': 1000, 'max_depth': 20, 'learning_rate': 0.1},\n",
    "    {'n_estimators': 1000, 'max_depth': 20, 'learning_rate': 0.01},\n",
    "    {'n_estimators': 500, 'max_depth': 5, 'learning_rate': 0.8},\n",
    "    {'n_estimators': 500, 'max_depth': 10, 'learning_rate': 0.8},\n",
    "    {'n_estimators': 500, 'max_depth': 20, 'learning_rate': 0.8},\n",
    "    {'n_estimators': 100, 'max_depth': 5, 'learning_rate': 0.01},\n",
    "    {'n_estimators': 100, 'max_depth': 10, 'learning_rate': 0.01},\n",
    "    {'n_estimators': 100, 'max_depth': 20, 'learning_rate': 0.01},\n",
    "]\n",
    "models_store = []"
   ],
   "metadata": {
    "collapsed": false,
    "ExecuteTime": {
     "end_time": "2024-04-04T16:46:55.528956Z",
     "start_time": "2024-04-04T16:46:55.497723Z"
    }
   },
   "id": "e083dca7ef29c375"
  },
  {
   "cell_type": "code",
   "execution_count": 180,
   "outputs": [
    {
     "name": "stdout",
     "output_type": "stream",
     "text": [
      "Model id: 0 with hiperparameters:\n",
      "\n",
      " n_estimators=1000, max_depth=5, learning_rate=0.8\n",
      "\n",
      "Test Accuracy of XBG Classifier: 63.83\n",
      "\n",
      "test confusion_matrix\n",
      "[[20  9]\n",
      " [ 8 10]]\n",
      "\n",
      "Train Accuracy of XBG Classifier: 100.00\n",
      "\n",
      "train confusion_matrix\n",
      "[[62  0]\n",
      " [ 0 46]]\n",
      "====================================================================================================\n",
      "Model id: 1 with hiperparameters:\n",
      "\n",
      " n_estimators=1000, max_depth=10, learning_rate=0.8\n",
      "\n",
      "Test Accuracy of XBG Classifier: 63.83\n",
      "\n",
      "test confusion_matrix\n",
      "[[21 10]\n",
      " [ 7  9]]\n",
      "\n",
      "Train Accuracy of XBG Classifier: 100.00\n",
      "\n",
      "train confusion_matrix\n",
      "[[62  0]\n",
      " [ 0 46]]\n",
      "====================================================================================================\n",
      "Model id: 2 with hiperparameters:\n",
      "\n",
      " n_estimators=1000, max_depth=20, learning_rate=0.1\n",
      "\n",
      "Test Accuracy of XBG Classifier: 63.83\n",
      "\n",
      "test confusion_matrix\n",
      "[[20  9]\n",
      " [ 8 10]]\n",
      "\n",
      "Train Accuracy of XBG Classifier: 100.00\n",
      "\n",
      "train confusion_matrix\n",
      "[[62  0]\n",
      " [ 0 46]]\n",
      "====================================================================================================\n",
      "Model id: 3 with hiperparameters:\n",
      "\n",
      " n_estimators=1000, max_depth=20, learning_rate=0.01\n",
      "\n",
      "Test Accuracy of XBG Classifier: 59.57\n",
      "\n",
      "test confusion_matrix\n",
      "[[18  9]\n",
      " [10 10]]\n",
      "\n",
      "Train Accuracy of XBG Classifier: 100.00\n",
      "\n",
      "train confusion_matrix\n",
      "[[62  0]\n",
      " [ 0 46]]\n",
      "====================================================================================================\n",
      "Model id: 4 with hiperparameters:\n",
      "\n",
      " n_estimators=500, max_depth=5, learning_rate=0.8\n",
      "\n",
      "Test Accuracy of XBG Classifier: 65.96\n",
      "\n",
      "test confusion_matrix\n",
      "[[20  8]\n",
      " [ 8 11]]\n",
      "\n",
      "Train Accuracy of XBG Classifier: 100.00\n",
      "\n",
      "train confusion_matrix\n",
      "[[62  0]\n",
      " [ 0 46]]\n",
      "====================================================================================================\n",
      "Model id: 5 with hiperparameters:\n",
      "\n",
      " n_estimators=500, max_depth=10, learning_rate=0.8\n",
      "\n",
      "Test Accuracy of XBG Classifier: 65.96\n",
      "\n",
      "test confusion_matrix\n",
      "[[21  9]\n",
      " [ 7 10]]\n",
      "\n",
      "Train Accuracy of XBG Classifier: 100.00\n",
      "\n",
      "train confusion_matrix\n",
      "[[62  0]\n",
      " [ 0 46]]\n",
      "====================================================================================================\n",
      "Model id: 6 with hiperparameters:\n",
      "\n",
      " n_estimators=500, max_depth=20, learning_rate=0.8\n",
      "\n",
      "Test Accuracy of XBG Classifier: 65.96\n",
      "\n",
      "test confusion_matrix\n",
      "[[21  9]\n",
      " [ 7 10]]\n",
      "\n",
      "Train Accuracy of XBG Classifier: 100.00\n",
      "\n",
      "train confusion_matrix\n",
      "[[62  0]\n",
      " [ 0 46]]\n",
      "====================================================================================================\n",
      "Model id: 7 with hiperparameters:\n",
      "\n",
      " n_estimators=100, max_depth=5, learning_rate=0.01\n",
      "\n",
      "Test Accuracy of XBG Classifier: 59.57\n",
      "\n",
      "test confusion_matrix\n",
      "[[19 10]\n",
      " [ 9  9]]\n",
      "\n",
      "Train Accuracy of XBG Classifier: 92.59\n",
      "\n",
      "train confusion_matrix\n",
      "[[62  8]\n",
      " [ 0 38]]\n",
      "====================================================================================================\n",
      "Model id: 8 with hiperparameters:\n",
      "\n",
      " n_estimators=100, max_depth=10, learning_rate=0.01\n",
      "\n",
      "Test Accuracy of XBG Classifier: 59.57\n",
      "\n",
      "test confusion_matrix\n",
      "[[19 10]\n",
      " [ 9  9]]\n",
      "\n",
      "Train Accuracy of XBG Classifier: 92.59\n",
      "\n",
      "train confusion_matrix\n",
      "[[62  8]\n",
      " [ 0 38]]\n",
      "====================================================================================================\n",
      "Model id: 9 with hiperparameters:\n",
      "\n",
      " n_estimators=100, max_depth=20, learning_rate=0.01\n",
      "\n",
      "Test Accuracy of XBG Classifier: 59.57\n",
      "\n",
      "test confusion_matrix\n",
      "[[19 10]\n",
      " [ 9  9]]\n",
      "\n",
      "Train Accuracy of XBG Classifier: 92.59\n",
      "\n",
      "train confusion_matrix\n",
      "[[62  8]\n",
      " [ 0 38]]\n",
      "====================================================================================================\n"
     ]
    }
   ],
   "source": [
    "for i, hiperparameters in enumerate(hiperparameters_dict):\n",
    "    model = XGBClassifier(\n",
    "        n_estimators=hiperparameters['n_estimators'],\n",
    "        max_depth=hiperparameters['max_depth'],\n",
    "        learning_rate=hiperparameters['learning_rate'],\n",
    "    )\n",
    "    model.fit(X_train, y_train)\n",
    "    print(f\"Model id: {i} with hiperparameters:\\n\\n n_estimators={hiperparameters['n_estimators']}, max_depth={hiperparameters['max_depth']}, learning_rate={hiperparameters['learning_rate']}\")\n",
    "    # make prediction for test data\n",
    "    y_pred = model.predict(X_test)\n",
    "    # evaluate prediction\n",
    "    model_score_test = accuracy_score(y_test, y_pred)\n",
    "    print('\\nTest Accuracy of XBG Classifier: {0:0.2f}'.format(model_score_test * 100.0))\n",
    "    # plot the predictions for train data\n",
    "    print('\\ntest confusion_matrix')\n",
    "    print(confusion_matrix(y_pred, y_test))\n",
    "    \n",
    "    y_pred = model.predict(X_train)\n",
    "    # evaluate prediction\n",
    "    model_score_train = accuracy_score(y_train, y_pred)\n",
    "    print('\\nTrain Accuracy of XBG Classifier: {0:0.2f}'.format(model_score_train * 100.0))\n",
    "    # plot the predictions for train data\n",
    "    print('\\ntrain confusion_matrix')\n",
    "    print(confusion_matrix(y_pred, y_train))\n",
    "    print('=====' *20)\n",
    "    \n",
    "    models_store.append(\n",
    "        {'model': model, 'accuracy_test': model_score_test * 100.0, 'accuracy_train': model_score_train * 100.0}\n",
    "    )\n",
    "    \n",
    "    "
   ],
   "metadata": {
    "collapsed": false,
    "ExecuteTime": {
     "end_time": "2024-04-04T16:46:56.994004Z",
     "start_time": "2024-04-04T16:46:55.502461Z"
    }
   },
   "id": "d0919569b4157104"
  },
  {
   "cell_type": "markdown",
   "source": [
    "Najlepszy model ma takie hiperparametry:  n_estimators=100, max_depth=20, learning_rate=0.01"
   ],
   "metadata": {
    "collapsed": false
   },
   "id": "58347d45fbe352a4"
  },
  {
   "cell_type": "code",
   "execution_count": 181,
   "outputs": [
    {
     "data": {
      "text/plain": "<Figure size 1000x1000 with 0 Axes>"
     },
     "metadata": {},
     "output_type": "display_data"
    },
    {
     "data": {
      "text/plain": "<Figure size 640x480 with 1 Axes>",
      "image/png": "[encoded data removed]"
     },
     "metadata": {},
     "output_type": "display_data"
    }
   ],
   "source": [
    "model = models_store[9]['model']\n",
    "plt.figure(figsize=(10,10))\n",
    "plot_importance(model, title='Feature importance from XGBoost model')\n",
    "plt.show()"
   ],
   "metadata": {
    "collapsed": false,
    "ExecuteTime": {
     "end_time": "2024-04-04T16:46:57.068236Z",
     "start_time": "2024-04-04T16:46:56.992585Z"
    }
   },
   "id": "d2c82766923c6e85"
  },
  {
   "cell_type": "markdown",
   "source": [
    "## Wnioski:\n",
    "Największy wpływ na trenowanie tego modelu ma learning rate"
   ],
   "metadata": {
    "collapsed": false
   },
   "id": "5defb446212c82c1"
  },
  {
   "cell_type": "code",
   "execution_count": 181,
   "outputs": [],
   "source": [],
   "metadata": {
    "collapsed": false,
    "ExecuteTime": {
     "end_time": "2024-04-04T16:46:57.072431Z",
     "start_time": "2024-04-04T16:46:57.068547Z"
    }
   },
   "id": "d83c7c4f3546e964"
  }
 ],
 "metadata": {
  "kernelspec": {
   "display_name": "Python 3",
   "language": "python",
   "name": "python3"
  },
  "language_info": {
   "codemirror_mode": {
    "name": "ipython",
    "version": 2
   },
   "file_extension": ".py",
   "mimetype": "text/x-python",
   "name": "python",
   "nbconvert_exporter": "python",
   "pygments_lexer": "ipython2",
   "version": "2.7.6"
  }
 },
 "nbformat": 4,
 "nbformat_minor": 5
}
